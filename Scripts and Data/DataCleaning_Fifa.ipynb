{
 "cells": [
  {
   "cell_type": "code",
   "execution_count": 1,
   "metadata": {},
   "outputs": [],
   "source": [
    "import pandas as pd\n",
    "import numpy as np"
   ]
  },
  {
   "cell_type": "code",
   "execution_count": 2,
   "metadata": {},
   "outputs": [],
   "source": [
    "df1 = pd.read_csv('Player_List_1.csv')\n",
    "df2 = pd.read_csv('Player_List_2.csv')\n",
    "df3 = pd.read_csv('Player_List_3.csv')"
   ]
  },
  {
   "cell_type": "code",
   "execution_count": 3,
   "metadata": {},
   "outputs": [],
   "source": [
    "df = pd.concat([df1,df2,df3],ignore_index=True,axis=0)"
   ]
  },
  {
   "cell_type": "code",
   "execution_count": 11,
   "metadata": {},
   "outputs": [
    {
     "name": "stdout",
     "output_type": "stream",
     "text": [
      "<class 'pandas.core.frame.DataFrame'>\n",
      "RangeIndex: 19654 entries, 0 to 19653\n",
      "Data columns (total 16 columns):\n",
      " #   Column           Non-Null Count  Dtype  \n",
      "---  ------           --------------  -----  \n",
      " 0   Player           19654 non-null  object \n",
      " 1   Overall Score    19654 non-null  int64  \n",
      " 2   Potential Score  19654 non-null  int64  \n",
      " 3   Market Value     19437 non-null  float64\n",
      " 4   Weekly Salary    19438 non-null  float64\n",
      " 5   Height           19654 non-null  int64  \n",
      " 6   Weight           19654 non-null  int64  \n",
      " 7   Age              19654 non-null  int64  \n",
      " 8   Preferred Foot   19654 non-null  object \n",
      " 9   Ball Skills      19654 non-null  float64\n",
      " 10  Defence          19654 non-null  float64\n",
      " 11  Mental           19654 non-null  float64\n",
      " 12  Passing          19654 non-null  float64\n",
      " 13  Physical         19654 non-null  float64\n",
      " 14  Shooting         19654 non-null  float64\n",
      " 15  Goalkeeping      19654 non-null  float64\n",
      "dtypes: float64(9), int64(5), object(2)\n",
      "memory usage: 2.4+ MB\n"
     ]
    }
   ],
   "source": [
    "df.info()"
   ]
  },
  {
   "cell_type": "code",
   "execution_count": 12,
   "metadata": {},
   "outputs": [],
   "source": [
    "DF = df.drop_duplicates()"
   ]
  },
  {
   "cell_type": "code",
   "execution_count": 13,
   "metadata": {},
   "outputs": [
    {
     "name": "stdout",
     "output_type": "stream",
     "text": [
      "<class 'pandas.core.frame.DataFrame'>\n",
      "Int64Index: 19619 entries, 0 to 19653\n",
      "Data columns (total 16 columns):\n",
      " #   Column           Non-Null Count  Dtype  \n",
      "---  ------           --------------  -----  \n",
      " 0   Player           19619 non-null  object \n",
      " 1   Overall Score    19619 non-null  int64  \n",
      " 2   Potential Score  19619 non-null  int64  \n",
      " 3   Market Value     19402 non-null  float64\n",
      " 4   Weekly Salary    19403 non-null  float64\n",
      " 5   Height           19619 non-null  int64  \n",
      " 6   Weight           19619 non-null  int64  \n",
      " 7   Age              19619 non-null  int64  \n",
      " 8   Preferred Foot   19619 non-null  object \n",
      " 9   Ball Skills      19619 non-null  float64\n",
      " 10  Defence          19619 non-null  float64\n",
      " 11  Mental           19619 non-null  float64\n",
      " 12  Passing          19619 non-null  float64\n",
      " 13  Physical         19619 non-null  float64\n",
      " 14  Shooting         19619 non-null  float64\n",
      " 15  Goalkeeping      19619 non-null  float64\n",
      "dtypes: float64(9), int64(5), object(2)\n",
      "memory usage: 2.5+ MB\n"
     ]
    }
   ],
   "source": [
    "DF.info()"
   ]
  },
  {
   "cell_type": "code",
   "execution_count": 14,
   "metadata": {},
   "outputs": [],
   "source": [
    "DF1 = DF.dropna(axis=0)"
   ]
  },
  {
   "cell_type": "code",
   "execution_count": 16,
   "metadata": {},
   "outputs": [
    {
     "name": "stdout",
     "output_type": "stream",
     "text": [
      "<class 'pandas.core.frame.DataFrame'>\n",
      "Int64Index: 19402 entries, 0 to 19653\n",
      "Data columns (total 16 columns):\n",
      " #   Column           Non-Null Count  Dtype  \n",
      "---  ------           --------------  -----  \n",
      " 0   Player           19402 non-null  object \n",
      " 1   Overall Score    19402 non-null  int64  \n",
      " 2   Potential Score  19402 non-null  int64  \n",
      " 3   Market Value     19402 non-null  float64\n",
      " 4   Weekly Salary    19402 non-null  float64\n",
      " 5   Height           19402 non-null  int64  \n",
      " 6   Weight           19402 non-null  int64  \n",
      " 7   Age              19402 non-null  int64  \n",
      " 8   Preferred Foot   19402 non-null  object \n",
      " 9   Ball Skills      19402 non-null  float64\n",
      " 10  Defence          19402 non-null  float64\n",
      " 11  Mental           19402 non-null  float64\n",
      " 12  Passing          19402 non-null  float64\n",
      " 13  Physical         19402 non-null  float64\n",
      " 14  Shooting         19402 non-null  float64\n",
      " 15  Goalkeeping      19402 non-null  float64\n",
      "dtypes: float64(9), int64(5), object(2)\n",
      "memory usage: 2.5+ MB\n"
     ]
    }
   ],
   "source": [
    "DF1.info()"
   ]
  },
  {
   "cell_type": "code",
   "execution_count": 20,
   "metadata": {},
   "outputs": [
    {
     "name": "stderr",
     "output_type": "stream",
     "text": [
      "C:\\Users\\tanpe\\Anaconda3\\lib\\site-packages\\pandas\\core\\frame.py:2963: SettingWithCopyWarning: \n",
      "A value is trying to be set on a copy of a slice from a DataFrame.\n",
      "Try using .loc[row_indexer,col_indexer] = value instead\n",
      "\n",
      "See the caveats in the documentation: https://pandas.pydata.org/pandas-docs/stable/user_guide/indexing.html#returning-a-view-versus-a-copy\n",
      "  self[k1] = value[k2]\n"
     ]
    }
   ],
   "source": [
    "DF1[['Overall Score','Potential Score','Height','Weight','Age']] = DF1[['Overall Score','Potential Score','Height','Weight','Age']].astype(float)"
   ]
  },
  {
   "cell_type": "code",
   "execution_count": 21,
   "metadata": {},
   "outputs": [
    {
     "name": "stdout",
     "output_type": "stream",
     "text": [
      "<class 'pandas.core.frame.DataFrame'>\n",
      "Int64Index: 19402 entries, 0 to 19653\n",
      "Data columns (total 16 columns):\n",
      " #   Column           Non-Null Count  Dtype  \n",
      "---  ------           --------------  -----  \n",
      " 0   Player           19402 non-null  object \n",
      " 1   Overall Score    19402 non-null  float64\n",
      " 2   Potential Score  19402 non-null  float64\n",
      " 3   Market Value     19402 non-null  float64\n",
      " 4   Weekly Salary    19402 non-null  float64\n",
      " 5   Height           19402 non-null  float64\n",
      " 6   Weight           19402 non-null  float64\n",
      " 7   Age              19402 non-null  float64\n",
      " 8   Preferred Foot   19402 non-null  object \n",
      " 9   Ball Skills      19402 non-null  float64\n",
      " 10  Defence          19402 non-null  float64\n",
      " 11  Mental           19402 non-null  float64\n",
      " 12  Passing          19402 non-null  float64\n",
      " 13  Physical         19402 non-null  float64\n",
      " 14  Shooting         19402 non-null  float64\n",
      " 15  Goalkeeping      19402 non-null  float64\n",
      "dtypes: float64(14), object(2)\n",
      "memory usage: 2.5+ MB\n"
     ]
    }
   ],
   "source": [
    "DF1.info()"
   ]
  },
  {
   "cell_type": "code",
   "execution_count": 22,
   "metadata": {},
   "outputs": [
    {
     "data": {
      "text/html": [
       "<div>\n",
       "<style scoped>\n",
       "    .dataframe tbody tr th:only-of-type {\n",
       "        vertical-align: middle;\n",
       "    }\n",
       "\n",
       "    .dataframe tbody tr th {\n",
       "        vertical-align: top;\n",
       "    }\n",
       "\n",
       "    .dataframe thead th {\n",
       "        text-align: right;\n",
       "    }\n",
       "</style>\n",
       "<table border=\"1\" class=\"dataframe\">\n",
       "  <thead>\n",
       "    <tr style=\"text-align: right;\">\n",
       "      <th></th>\n",
       "      <th>Player</th>\n",
       "      <th>Overall Score</th>\n",
       "      <th>Potential Score</th>\n",
       "      <th>Market Value</th>\n",
       "      <th>Weekly Salary</th>\n",
       "      <th>Height</th>\n",
       "      <th>Weight</th>\n",
       "      <th>Age</th>\n",
       "      <th>Preferred Foot</th>\n",
       "      <th>Ball Skills</th>\n",
       "      <th>Defence</th>\n",
       "      <th>Mental</th>\n",
       "      <th>Passing</th>\n",
       "      <th>Physical</th>\n",
       "      <th>Shooting</th>\n",
       "      <th>Goalkeeping</th>\n",
       "    </tr>\n",
       "  </thead>\n",
       "  <tbody>\n",
       "    <tr>\n",
       "      <th>0</th>\n",
       "      <td>Lionel Messi</td>\n",
       "      <td>94.0</td>\n",
       "      <td>94.0</td>\n",
       "      <td>95500000.0</td>\n",
       "      <td>560000.0</td>\n",
       "      <td>170.0</td>\n",
       "      <td>72.0</td>\n",
       "      <td>33.0</td>\n",
       "      <td>Left</td>\n",
       "      <td>96.5</td>\n",
       "      <td>32.000000</td>\n",
       "      <td>77.833333</td>\n",
       "      <td>90.666667</td>\n",
       "      <td>82.000000</td>\n",
       "      <td>86.875</td>\n",
       "      <td>10.8</td>\n",
       "    </tr>\n",
       "    <tr>\n",
       "      <th>1</th>\n",
       "      <td>Cristiano Ronaldo</td>\n",
       "      <td>93.0</td>\n",
       "      <td>93.0</td>\n",
       "      <td>58500000.0</td>\n",
       "      <td>400000.0</td>\n",
       "      <td>187.0</td>\n",
       "      <td>83.0</td>\n",
       "      <td>35.0</td>\n",
       "      <td>Right</td>\n",
       "      <td>90.5</td>\n",
       "      <td>28.000000</td>\n",
       "      <td>76.666667</td>\n",
       "      <td>81.333333</td>\n",
       "      <td>85.000000</td>\n",
       "      <td>87.500</td>\n",
       "      <td>11.6</td>\n",
       "    </tr>\n",
       "    <tr>\n",
       "      <th>2</th>\n",
       "      <td>Neymar Jr</td>\n",
       "      <td>92.0</td>\n",
       "      <td>92.0</td>\n",
       "      <td>105500000.0</td>\n",
       "      <td>290000.0</td>\n",
       "      <td>175.0</td>\n",
       "      <td>68.0</td>\n",
       "      <td>28.0</td>\n",
       "      <td>Right</td>\n",
       "      <td>95.5</td>\n",
       "      <td>31.333333</td>\n",
       "      <td>75.000000</td>\n",
       "      <td>85.000000</td>\n",
       "      <td>79.142857</td>\n",
       "      <td>83.750</td>\n",
       "      <td>11.8</td>\n",
       "    </tr>\n",
       "    <tr>\n",
       "      <th>3</th>\n",
       "      <td>Virgil van Dijk</td>\n",
       "      <td>91.0</td>\n",
       "      <td>92.0</td>\n",
       "      <td>90000000.0</td>\n",
       "      <td>245000.0</td>\n",
       "      <td>193.0</td>\n",
       "      <td>92.0</td>\n",
       "      <td>29.0</td>\n",
       "      <td>Right</td>\n",
       "      <td>73.5</td>\n",
       "      <td>90.666667</td>\n",
       "      <td>77.333333</td>\n",
       "      <td>71.666667</td>\n",
       "      <td>74.857143</td>\n",
       "      <td>65.125</td>\n",
       "      <td>11.6</td>\n",
       "    </tr>\n",
       "    <tr>\n",
       "      <th>4</th>\n",
       "      <td>Jan Oblak</td>\n",
       "      <td>91.0</td>\n",
       "      <td>93.0</td>\n",
       "      <td>77500000.0</td>\n",
       "      <td>125000.0</td>\n",
       "      <td>188.0</td>\n",
       "      <td>87.0</td>\n",
       "      <td>27.0</td>\n",
       "      <td>Right</td>\n",
       "      <td>21.0</td>\n",
       "      <td>19.000000</td>\n",
       "      <td>47.500000</td>\n",
       "      <td>32.000000</td>\n",
       "      <td>59.428571</td>\n",
       "      <td>18.500</td>\n",
       "      <td>87.2</td>\n",
       "    </tr>\n",
       "  </tbody>\n",
       "</table>\n",
       "</div>"
      ],
      "text/plain": [
       "              Player  Overall Score  Potential Score  Market Value  \\\n",
       "0       Lionel Messi           94.0             94.0    95500000.0   \n",
       "1  Cristiano Ronaldo           93.0             93.0    58500000.0   \n",
       "2          Neymar Jr           92.0             92.0   105500000.0   \n",
       "3    Virgil van Dijk           91.0             92.0    90000000.0   \n",
       "4          Jan Oblak           91.0             93.0    77500000.0   \n",
       "\n",
       "   Weekly Salary  Height  Weight   Age Preferred Foot  Ball Skills    Defence  \\\n",
       "0       560000.0   170.0    72.0  33.0           Left         96.5  32.000000   \n",
       "1       400000.0   187.0    83.0  35.0          Right         90.5  28.000000   \n",
       "2       290000.0   175.0    68.0  28.0          Right         95.5  31.333333   \n",
       "3       245000.0   193.0    92.0  29.0          Right         73.5  90.666667   \n",
       "4       125000.0   188.0    87.0  27.0          Right         21.0  19.000000   \n",
       "\n",
       "      Mental    Passing   Physical  Shooting  Goalkeeping  \n",
       "0  77.833333  90.666667  82.000000    86.875         10.8  \n",
       "1  76.666667  81.333333  85.000000    87.500         11.6  \n",
       "2  75.000000  85.000000  79.142857    83.750         11.8  \n",
       "3  77.333333  71.666667  74.857143    65.125         11.6  \n",
       "4  47.500000  32.000000  59.428571    18.500         87.2  "
      ]
     },
     "execution_count": 22,
     "metadata": {},
     "output_type": "execute_result"
    }
   ],
   "source": [
    "DF1.head()"
   ]
  },
  {
   "cell_type": "code",
   "execution_count": 23,
   "metadata": {},
   "outputs": [],
   "source": [
    "DF1.to_csv('All_Player_List.csv')"
   ]
  },
  {
   "cell_type": "code",
   "execution_count": 30,
   "metadata": {},
   "outputs": [
    {
     "data": {
      "text/html": [
       "<div>\n",
       "<style scoped>\n",
       "    .dataframe tbody tr th:only-of-type {\n",
       "        vertical-align: middle;\n",
       "    }\n",
       "\n",
       "    .dataframe tbody tr th {\n",
       "        vertical-align: top;\n",
       "    }\n",
       "\n",
       "    .dataframe thead th {\n",
       "        text-align: right;\n",
       "    }\n",
       "</style>\n",
       "<table border=\"1\" class=\"dataframe\">\n",
       "  <thead>\n",
       "    <tr style=\"text-align: right;\">\n",
       "      <th></th>\n",
       "      <th>Player</th>\n",
       "      <th>Overall Score</th>\n",
       "      <th>Potential Score</th>\n",
       "      <th>Market Value</th>\n",
       "      <th>Weekly Salary</th>\n",
       "      <th>Height</th>\n",
       "      <th>Weight</th>\n",
       "      <th>Age</th>\n",
       "      <th>Preferred Foot</th>\n",
       "      <th>Ball Skills</th>\n",
       "      <th>Defence</th>\n",
       "      <th>Mental</th>\n",
       "      <th>Passing</th>\n",
       "      <th>Physical</th>\n",
       "      <th>Shooting</th>\n",
       "      <th>Goalkeeping</th>\n",
       "    </tr>\n",
       "  </thead>\n",
       "  <tbody>\n",
       "    <tr>\n",
       "      <th>16978</th>\n",
       "      <td>Jordan Slew</td>\n",
       "      <td>59</td>\n",
       "      <td>59</td>\n",
       "      <td>NaN</td>\n",
       "      <td>1900.0</td>\n",
       "      <td>191</td>\n",
       "      <td>81</td>\n",
       "      <td>28</td>\n",
       "      <td>Right</td>\n",
       "      <td>58.0</td>\n",
       "      <td>21.666667</td>\n",
       "      <td>47.5</td>\n",
       "      <td>43.666667</td>\n",
       "      <td>68.0</td>\n",
       "      <td>50.75</td>\n",
       "      <td>12.8</td>\n",
       "    </tr>\n",
       "  </tbody>\n",
       "</table>\n",
       "</div>"
      ],
      "text/plain": [
       "            Player  Overall Score  Potential Score  Market Value  \\\n",
       "16978  Jordan Slew             59               59           NaN   \n",
       "\n",
       "       Weekly Salary  Height  Weight  Age Preferred Foot  Ball Skills  \\\n",
       "16978         1900.0     191      81   28          Right         58.0   \n",
       "\n",
       "         Defence  Mental    Passing  Physical  Shooting  Goalkeeping  \n",
       "16978  21.666667    47.5  43.666667      68.0     50.75         12.8  "
      ]
     },
     "execution_count": 30,
     "metadata": {},
     "output_type": "execute_result"
    }
   ],
   "source": [
    "DF[(DF['Market Value'].isnull()) & DF['Weekly Salary'].notna()]"
   ]
  },
  {
   "cell_type": "code",
   "execution_count": null,
   "metadata": {},
   "outputs": [],
   "source": []
  }
 ],
 "metadata": {
  "kernelspec": {
   "display_name": "Python 3",
   "language": "python",
   "name": "python3"
  },
  "language_info": {
   "codemirror_mode": {
    "name": "ipython",
    "version": 3
   },
   "file_extension": ".py",
   "mimetype": "text/x-python",
   "name": "python",
   "nbconvert_exporter": "python",
   "pygments_lexer": "ipython3",
   "version": "3.8.3"
  }
 },
 "nbformat": 4,
 "nbformat_minor": 4
}
